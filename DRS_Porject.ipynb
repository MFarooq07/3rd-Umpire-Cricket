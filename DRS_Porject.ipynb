{
 "cells": [
  {
   "cell_type": "markdown",
   "id": "398b27fd",
   "metadata": {},
   "source": [
    "# Crcket DRS system\n",
    "\n",
    "This is my first project where I will be trying to create home based Decision Review System (DRS). In street cricket or local club crickets, the high technology used at international level is not available. Therefore we will be building a system that is handy and can be used in low budget tournaments.\n",
    "\n"
   ]
  },
  {
   "cell_type": "markdown",
   "id": "b09dd042",
   "metadata": {},
   "source": [
    "As a first step, we will install tkinter to create GUI as follows\n",
    "\n",
    "`! pip install tk` \n",
    "\n",
    "or if you have previously installed `tkinter` you can see if it is already installed as follows\n",
    "\n",
    "`! pip show  tk` "
   ]
  },
  {
   "cell_type": "code",
   "execution_count": null,
   "id": "9d01e4c0",
   "metadata": {},
   "outputs": [
    {
     "name": "stdout",
     "output_type": "stream",
     "text": [
      "Collecting tk\n",
      "  Downloading tk-0.1.0-py3-none-any.whl.metadata (693 bytes)\n",
      "Downloading tk-0.1.0-py3-none-any.whl (3.9 kB)\n",
      "Installing collected packages: tk\n",
      "Successfully installed tk-0.1.0\n"
     ]
    },
    {
     "name": "stderr",
     "output_type": "stream",
     "text": [
      "WARNING: Ignoring invalid distribution ~pencv-python (C:\\Users\\Faruk\\AppData\\Local\\Programs\\Python\\Python311\\Lib\\site-packages)\n",
      "WARNING: Ignoring invalid distribution ~rotobuf (C:\\Users\\Faruk\\AppData\\Local\\Programs\\Python\\Python311\\Lib\\site-packages)\n",
      "WARNING: Ignoring invalid distribution ~pencv-python (C:\\Users\\Faruk\\AppData\\Local\\Programs\\Python\\Python311\\Lib\\site-packages)\n",
      "WARNING: Ignoring invalid distribution ~rotobuf (C:\\Users\\Faruk\\AppData\\Local\\Programs\\Python\\Python311\\Lib\\site-packages)\n",
      "WARNING: Ignoring invalid distribution ~pencv-python (C:\\Users\\Faruk\\AppData\\Local\\Programs\\Python\\Python311\\Lib\\site-packages)\n",
      "WARNING: Ignoring invalid distribution ~rotobuf (C:\\Users\\Faruk\\AppData\\Local\\Programs\\Python\\Python311\\Lib\\site-packages)\n"
     ]
    }
   ],
   "source": [
    "! pip install tk\n"
   ]
  },
  {
   "cell_type": "code",
   "execution_count": 1,
   "id": "3797358c",
   "metadata": {},
   "outputs": [
    {
     "name": "stdout",
     "output_type": "stream",
     "text": [
      "Name: tk\n",
      "Version: 0.1.0\n",
      "Summary: TensorKit is a deep learning helper between Python and C++.\n",
      "Home-page: https://github.com/atranitell/TensorKit\n",
      "Author: Kai Jin\n",
      "Author-email: atranitell@gmail.com\n",
      "License: Apache 2.0 Licence\n",
      "Location: C:\\Users\\Faruk\\AppData\\Local\\Programs\\Python\\Python311\\Lib\\site-packages\n",
      "Requires: \n",
      "Required-by: \n"
     ]
    },
    {
     "name": "stderr",
     "output_type": "stream",
     "text": [
      "WARNING: Ignoring invalid distribution ~pencv-python (C:\\Users\\Faruk\\AppData\\Local\\Programs\\Python\\Python311\\Lib\\site-packages)\n",
      "WARNING: Ignoring invalid distribution ~rotobuf (C:\\Users\\Faruk\\AppData\\Local\\Programs\\Python\\Python311\\Lib\\site-packages)\n"
     ]
    }
   ],
   "source": [
    "! pip show tk "
   ]
  },
  {
   "cell_type": "markdown",
   "id": "7ac73835",
   "metadata": {},
   "source": [
    "Since we need to process the videos and images for our project for ball tracking and trajectory estimation, we will import python library `PIL` which does this job. But before doing so we will install it as follows"
   ]
  },
  {
   "cell_type": "code",
   "execution_count": 2,
   "id": "534b0a45",
   "metadata": {},
   "outputs": [
    {
     "name": "stdout",
     "output_type": "stream",
     "text": [
      "Name: pillow\n",
      "Version: 11.3.0\n",
      "Summary: Python Imaging Library (Fork)\n",
      "Home-page: https://python-pillow.github.io\n",
      "Author: \n",
      "Author-email: \"Jeffrey A. Clark\" <aclark@aclark.net>\n",
      "License-Expression: MIT-CMU\n",
      "Location: C:\\Users\\Faruk\\AppData\\Local\\Programs\\Python\\Python311\\Lib\\site-packages\n",
      "Requires: \n",
      "Required-by: matplotlib, tensorboard, torchvision\n",
      "---\n",
      "Name: pillow\n",
      "Version: 11.3.0\n",
      "Summary: Python Imaging Library (Fork)\n",
      "Home-page: https://python-pillow.github.io\n",
      "Author: \n",
      "Author-email: \"Jeffrey A. Clark\" <aclark@aclark.net>\n",
      "License-Expression: MIT-CMU\n",
      "Location: C:\\Users\\Faruk\\AppData\\Local\\Programs\\Python\\Python311\\Lib\\site-packages\n",
      "Requires: \n",
      "Required-by: matplotlib, tensorboard, torchvision\n"
     ]
    },
    {
     "name": "stderr",
     "output_type": "stream",
     "text": [
      "WARNING: Ignoring invalid distribution ~pencv-python (C:\\Users\\Faruk\\AppData\\Local\\Programs\\Python\\Python311\\Lib\\site-packages)\n",
      "WARNING: Ignoring invalid distribution ~rotobuf (C:\\Users\\Faruk\\AppData\\Local\\Programs\\Python\\Python311\\Lib\\site-packages)\n",
      "WARNING: Package(s) not found: ! pip install Pillow, #, if, installed, not, use\n"
     ]
    }
   ],
   "source": [
    "! pip show Pillow # use \"! pip install Pillow\" if Pillow not installed"
   ]
  },
  {
   "cell_type": "markdown",
   "id": "d37ecd21",
   "metadata": {},
   "source": [
    "We will be importing `Image` and `ImageTk` from the `PIL` so that we cna show it in the tkinter window. When working with images in python, almost everytime we will be using the `cv2` library as we want to do something with images and video. "
   ]
  },
  {
   "cell_type": "code",
   "execution_count": 3,
   "id": "29e0ac79",
   "metadata": {},
   "outputs": [],
   "source": [
    "import cv2\n",
    "import tkinter as tk\n",
    "from PIL import Image, ImageTk\n"
   ]
  },
  {
   "cell_type": "markdown",
   "id": "bf14891c",
   "metadata": {},
   "source": [
    "All the three libraries are closely related and in the context of this project is used for different purposes:\n",
    "\n",
    "* **OpenCV:** edge detection, ball tracking, homography, object detection, video I/O.\n",
    "\n",
    "* **Pillow:** load/save thumbnails, overlay logos, annotate images, quick format conversions.\n",
    "\n",
    "* **Tkinter:** parameter sliders (HSV thresholds), “Open Video” dialog, live preview, Save/Export buttons."
   ]
  },
  {
   "cell_type": "markdown",
   "id": "dd9522f3",
   "metadata": {},
   "source": [
    "The recording of the video that we need to analyze is going to be shown in a window of a certain `HEIGHT` and `WIDTH` which we can set as follows. You do not need to follow the exact height and width and can set according to your preference."
   ]
  },
  {
   "cell_type": "code",
   "execution_count": 4,
   "id": "7ed28329",
   "metadata": {},
   "outputs": [],
   "source": [
    "# Width and Height of our main screen\n",
    "SET_WIDTH = 660\n",
    "SET_HEIGHT = 368"
   ]
  },
  {
   "cell_type": "markdown",
   "id": "82c9d369",
   "metadata": {},
   "source": [
    "Now we will write some functions!!! Getting hands on keys!!!"
   ]
  },
  {
   "cell_type": "markdown",
   "id": "b18b360e",
   "metadata": {},
   "source": [
    "### 1. Making a `tkinter` window\n"
   ]
  },
  {
   "cell_type": "code",
   "execution_count": 5,
   "id": "e84f91b9",
   "metadata": {},
   "outputs": [],
   "source": [
    "# Tkinter GUI starts here\n",
    "window = tk.Tk()\n",
    "window.title(\"Cricket Umpire street decision review system\")\n",
    "\n",
    "window.mainloop()"
   ]
  },
  {
   "cell_type": "markdown",
   "id": "de21254d",
   "metadata": {},
   "source": []
  }
 ],
 "metadata": {
  "kernelspec": {
   "display_name": "rep-tempo-env",
   "language": "python",
   "name": "rep-tempo-env"
  },
  "language_info": {
   "codemirror_mode": {
    "name": "ipython",
    "version": 3
   },
   "file_extension": ".py",
   "mimetype": "text/x-python",
   "name": "python",
   "nbconvert_exporter": "python",
   "pygments_lexer": "ipython3",
   "version": "3.11.6"
  }
 },
 "nbformat": 4,
 "nbformat_minor": 5
}
